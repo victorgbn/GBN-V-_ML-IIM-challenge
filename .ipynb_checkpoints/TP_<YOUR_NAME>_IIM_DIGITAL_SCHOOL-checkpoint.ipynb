{
 "cells": [
  {
   "cell_type": "markdown",
   "id": "typical-suffering",
   "metadata": {},
   "source": [
    "# TP Challenge\n",
    "\n",
    "Replace your_name  by your name \n",
    "\n",
    "## Your task\n",
    "\n",
    "Today you are a datascientist for a marketing saas company.\n",
    "You have some data about your customer, a file with some features and the target **buy**.\n",
    "\n",
    "The target variable is whether a customer will click 'Buy' on a website. Buy = 0 and Buy = 1 indicate 'no' and 'yes' respectively. Independent variables capture customer background and customer website navigation behavior information. First variable in the train.csv data file identifies each customer uniquely.\n",
    "\n",
    "**The challenge is to correctly predict if a customer will click 'buy' on a website.**"
   ]
  },
  {
   "cell_type": "code",
   "execution_count": null,
   "id": "thousand-dining",
   "metadata": {},
   "outputs": [],
   "source": []
  },
  {
   "cell_type": "markdown",
   "id": "figured-celtic",
   "metadata": {},
   "source": [
    "## Importing Librairies"
   ]
  },
  {
   "cell_type": "code",
   "execution_count": null,
   "id": "quality-uganda",
   "metadata": {},
   "outputs": [],
   "source": [
    "#import the librairies"
   ]
  },
  {
   "cell_type": "markdown",
   "id": "played-indiana",
   "metadata": {},
   "source": [
    "## Preprocessing\n",
    "\n",
    "- Check if missing values\n",
    "\n",
    "- Check if duplicates ( if yes delete duplicated rows)"
   ]
  },
  {
   "cell_type": "code",
   "execution_count": null,
   "id": "standing-compound",
   "metadata": {},
   "outputs": [],
   "source": [
    "#your code here"
   ]
  },
  {
   "cell_type": "markdown",
   "id": "technological-pierce",
   "metadata": {},
   "source": [
    "## Visualization \n",
    "\n",
    "- Check if you have outliers in each features (columns) using seaborn or matplotlib\n",
    "- Check the correlation between each columns ( seaborn can maybe help you.. )[https://seaborn.pydata.org/generated/seaborn.pairplot.html]\n",
    "\n",
    "- Plot the distribution of the target\n"
   ]
  },
  {
   "cell_type": "code",
   "execution_count": null,
   "id": "ambient-radical",
   "metadata": {},
   "outputs": [],
   "source": [
    "#your code here"
   ]
  },
  {
   "cell_type": "markdown",
   "id": "starting-tragedy",
   "metadata": {},
   "source": [
    "## Undersample your data\n",
    "\n",
    "- Undersample the target with ( you may have to pip install -U imbalanced-learn)\n",
    "\n",
    "from imblearn.over_sampling import RandomOverSampler, SMOTE\n",
    "\n",
    "Ou \n",
    "\n",
    "from imblearn.under_sampling import RandomUnderSampler"
   ]
  },
  {
   "cell_type": "code",
   "execution_count": 1,
   "id": "illegal-harassment",
   "metadata": {
    "ExecuteTime": {
     "end_time": "2023-06-08T05:51:51.934466Z",
     "start_time": "2023-06-08T05:51:51.921163Z"
    }
   },
   "outputs": [],
   "source": [
    "# your code here"
   ]
  },
  {
   "cell_type": "markdown",
   "id": "familiar-casino",
   "metadata": {},
   "source": [
    "## Building models \n",
    "\n",
    "- Build a dummy model to have a baseline score\n",
    "\n",
    "- Build a better model to classify your data and beat your baseline model\n",
    "\n",
    "- Check the :\n",
    "    - accuracy,\n",
    "    - Recall,\n",
    "    - Precision,\n",
    "    - f1 score\n",
    "\n",
    "- Plot your learning curve\n",
    "--------------------------------\n",
    "\n",
    "\n",
    "\n",
    "\n",
    "\n",
    "\n",
    "\n",
    "\n",
    "\n",
    "**⚠️(OPTIONAL)⚠️**\n",
    "- Try to improve your first model by using a robust scaler or StandardScaler\n",
    "\n",
    "- Try to use another  classifier model to improve your model performance\n",
    "\n",
    "- Check the :\n",
    "    - accuracy,\n",
    "    - Recall,\n",
    "    - Precision,\n",
    "    - f1 score\n",
    "\n",
    "- Plot your learning curve\n"
   ]
  },
  {
   "cell_type": "code",
   "execution_count": null,
   "id": "defined-transmission",
   "metadata": {},
   "outputs": [],
   "source": [
    "#your code"
   ]
  },
  {
   "cell_type": "markdown",
   "id": "checked-compromise",
   "metadata": {},
   "source": [
    "# Finish ?\n",
    "\n",
    "add your code to a repos and send me the link by mail in the format :\n",
    "\n",
    "the subject of the email will be **YOUR NAME | ML-IIM-challenge**\n",
    "\n",
    "Send it to magloire.ndabagera@gmail.com at 5pm max."
   ]
  }
 ],
 "metadata": {
  "kernelspec": {
   "display_name": "Python 3",
   "language": "python",
   "name": "python3"
  },
  "language_info": {
   "codemirror_mode": {
    "name": "ipython",
    "version": 3
   },
   "file_extension": ".py",
   "mimetype": "text/x-python",
   "name": "python",
   "nbconvert_exporter": "python",
   "pygments_lexer": "ipython3",
   "version": "3.8.6"
  },
  "toc": {
   "base_numbering": 1,
   "nav_menu": {},
   "number_sections": true,
   "sideBar": true,
   "skip_h1_title": false,
   "title_cell": "Table of Contents",
   "title_sidebar": "Contents",
   "toc_cell": false,
   "toc_position": {},
   "toc_section_display": true,
   "toc_window_display": false
  }
 },
 "nbformat": 4,
 "nbformat_minor": 5
}
